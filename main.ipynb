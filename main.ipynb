{
 "cells": [
  {
   "cell_type": "code",
   "execution_count": 32,
   "id": "65c7c1ec",
   "metadata": {},
   "outputs": [],
   "source": [
    "import os\n",
    "import google.generativeai as genai\n",
    "from dotenv import load_dotenv\n",
    "from langchain.prompts import PromptTemplate"
   ]
  },
  {
   "cell_type": "code",
   "execution_count": 33,
   "id": "ad0f5ce8",
   "metadata": {},
   "outputs": [],
   "source": [
    "from langchain_google_genai import ChatGoogleGenerativeAI\n",
    "\n",
    "load_dotenv()  \n",
    "\n",
    "model = ChatGoogleGenerativeAI(\n",
    "    model=\"gemini-1.5-flash\", \n",
    "    google_api_key=os.environ[\"GOOGLE_API_KEY\"],\n",
    "    max_output_tokens=50,  \n",
    "    temperature=0.7 \n",
    ")     "
   ]
  },
  {
   "cell_type": "code",
   "execution_count": 34,
   "id": "8eec09a9",
   "metadata": {},
   "outputs": [],
   "source": [
    "prompt_template_name = PromptTemplate(\n",
    "    input_variables=['cuisine'],\n",
    "    template=\"I want to open a restaurant for {cuisine} food. Suggest a fancy name for it\"\n",
    ")"
   ]
  },
  {
   "cell_type": "code",
   "execution_count": 35,
   "id": "c677d0d3",
   "metadata": {},
   "outputs": [
    {
     "name": "stdout",
     "output_type": "stream",
     "text": [
      "**Elegant & Classic:**\n",
      "\n",
      "* Trattoria della Luna (Trattoria of the Moon)\n",
      "* Ristorante Bellini\n",
      "* Casa di Fiore (House of Flowers)\n",
      "* La Piazza d'Oro (The Golden Square)\n",
      "* Il Gi\n"
     ]
    }
   ],
   "source": [
    "formatted_prompt = prompt_template_name.format(cuisine=\"Italian\")\n",
    "response = model.invoke(formatted_prompt)  \n",
    "print(response.content) "
   ]
  },
  {
   "cell_type": "code",
   "execution_count": null,
   "id": "4643ddd5",
   "metadata": {},
   "outputs": [
    {
     "name": "stdout",
     "output_type": "stream",
     "text": [
      "**Evocative & Elegant:**\n",
      "\n",
      "* Saffron & Spice\n",
      "* The Jewel of India\n",
      "* The Gilded Curry\n",
      "* Amber & Saffron\n",
      "* Maharaja's Table\n",
      "* The Royal Tamarind\n",
      "* Spice Route\n",
      "* The Cinnamon Cloud\n"
     ]
    }
   ],
   "source": [
    "from langchain.chains import LLMChain\n",
    "\n",
    "chain = LLMChain(llm=model, prompt=prompt_template_name)\n",
    "result = chain.run(\"Indian\")\n",
    "print(result)  "
   ]
  },
  {
   "cell_type": "code",
   "execution_count": 38,
   "id": "373ca1f3",
   "metadata": {},
   "outputs": [
    {
     "name": "stdout",
     "output_type": "stream",
     "text": [
      "Butter Chicken\n",
      "Saag Paneer\n",
      "Lamb Rogan Josh\n",
      "Vegetable Biryani\n",
      "Naan\n"
     ]
    }
   ],
   "source": [
    "from langchain.chains import LLMChain, SimpleSequentialChain\n",
    "\n",
    "name_prompt = PromptTemplate(\n",
    "    input_variables=['cuisine'],\n",
    "    template=\"I want to open a restaurant for {cuisine} food. Suggest one fancy name for it. Only return the name, nothing else.\"\n",
    ")\n",
    "\n",
    "name_chain = LLMChain(llm=model, prompt=name_prompt, output_key=\"restaurant_name\")\n",
    "\n",
    "menu_prompt = PromptTemplate(\n",
    "    input_variables=['restaurant_name'],\n",
    "    template=\"Create a menu with 5 popular food items for a restaurant named '{restaurant_name}'. List only the dish names, one per line.\"\n",
    ")\n",
    "\n",
    "food_items_chain = LLMChain(llm=model, prompt=menu_prompt, output_key=\"menu_items\")\n",
    "\n",
    "chain = SimpleSequentialChain(\n",
    "    chains=[name_chain, food_items_chain]\n",
    ")\n",
    "\n",
    "response = chain.run(\"Indian\")\n",
    "print(response)"
   ]
  },
  {
   "cell_type": "code",
   "execution_count": 41,
   "id": "8591b77d",
   "metadata": {},
   "outputs": [
    {
     "name": "stdout",
     "output_type": "stream",
     "text": [
      "Restaurant Name: Saffron & Saffron\n",
      "Menu Items: Butter Chicken\n",
      "Saffron Risotto\n",
      "Lamb Tagine\n",
      "Chicken Tikka Masala\n",
      "Vegetable Biryani\n"
     ]
    }
   ],
   "source": [
    "from langchain.chains import SequentialChain\n",
    "\n",
    "chain = SequentialChain(\n",
    "    chains= [name_chain, food_items_chain],\n",
    "    input_variables=['cuisine'],\n",
    "    output_variables=['restaurant_name', 'menu_items']\n",
    ")\n",
    "\n",
    "result = chain({'cuisine':'gujrati'})\n",
    "print(\"Restaurant Name:\", result['restaurant_name'])\n",
    "print(\"Menu Items:\", result['menu_items'])"
   ]
  }
 ],
 "metadata": {
  "kernelspec": {
   "display_name": "venv (3.13.5)",
   "language": "python",
   "name": "python3"
  },
  "language_info": {
   "codemirror_mode": {
    "name": "ipython",
    "version": 3
   },
   "file_extension": ".py",
   "mimetype": "text/x-python",
   "name": "python",
   "nbconvert_exporter": "python",
   "pygments_lexer": "ipython3",
   "version": "3.13.5"
  }
 },
 "nbformat": 4,
 "nbformat_minor": 5
}
